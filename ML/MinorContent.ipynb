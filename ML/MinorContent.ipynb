{
  "nbformat": 4,
  "nbformat_minor": 0,
  "metadata": {
    "colab": {
      "provenance": [],
      "authorship_tag": "ABX9TyMkRrg4s19eSO2yP0yEESIZ",
      "include_colab_link": true
    },
    "kernelspec": {
      "name": "python3",
      "display_name": "Python 3"
    },
    "language_info": {
      "name": "python"
    }
  },
  "cells": [
    {
      "cell_type": "markdown",
      "metadata": {
        "id": "view-in-github",
        "colab_type": "text"
      },
      "source": [
        "<a href=\"https://colab.research.google.com/github/YudhirAcharya/MinorProject/blob/main/ML/MinorContent.ipynb\" target=\"_parent\"><img src=\"https://colab.research.google.com/assets/colab-badge.svg\" alt=\"Open In Colab\"/></a>"
      ]
    },
    {
      "cell_type": "code",
      "execution_count": 104,
      "metadata": {
        "id": "NK-CeJdANdYF"
      },
      "outputs": [],
      "source": [
        "import numpy as np\n",
        "import pandas as pd"
      ]
    },
    {
      "cell_type": "code",
      "source": [
        "df = pd.read_csv('new indian food dataset.csv')"
      ],
      "metadata": {
        "id": "RUPwdZmzNnLT"
      },
      "execution_count": 105,
      "outputs": []
    },
    {
      "cell_type": "code",
      "source": [
        "df.sample"
      ],
      "metadata": {
        "colab": {
          "base_uri": "https://localhost:8080/"
        },
        "id": "Wm5HRk7JWBf8",
        "outputId": "51f6139a-b840-466b-9e9d-065881853bcf"
      },
      "execution_count": 106,
      "outputs": [
        {
          "output_type": "execute_result",
          "data": {
            "text/plain": [
              "<bound method NDFrame.sample of       FoodID                               TranslatedRecipeName  \\\n",
              "0        100                               Masala Karela Recipe   \n",
              "1        101                         Spicy Tomato Rice (Recipe)   \n",
              "2        102  Ragi Semiya Upma Recipe - Ragi Millet Vermicel...   \n",
              "3        103  Gongura Chicken Curry Recipe - Andhra Style Go...   \n",
              "4        104  Andhra Style Alam Pachadi Recipe - Adrak Chutn...   \n",
              "...      ...                                                ...   \n",
              "6033      96                       Brown Sugar Oatmeal Pancakes   \n",
              "6034      97                                 Lime Chicken Tacos   \n",
              "6035      98                       Quick Cream of Mushroom Soup   \n",
              "6036      99                               Egg Roll Noodle Bowl   \n",
              "6037     100                      Mamaw Emily’s Strawberry Cake   \n",
              "\n",
              "                                  TranslatedIngredients  TotalTimeInMins  \\\n",
              "0     1 tablespoon Red Chilli powder,3 tablespoon Gr...               45   \n",
              "1      2 teaspoon cashew - or peanuts, 1/2 Teaspoon ...               15   \n",
              "2     1 Onion - sliced,1 teaspoon White Urad Dal (Sp...               50   \n",
              "3     1/2 teaspoon Turmeric powder (Haldi),1 tablesp...               45   \n",
              "4      oil - as per use, 1 tablespoon coriander seed...               30   \n",
              "...                                                 ...              ...   \n",
              "6033                                                NaN               15   \n",
              "6034                                                NaN               20   \n",
              "6035                                                NaN               30   \n",
              "6036                                                NaN               30   \n",
              "6037                                                NaN               60   \n",
              "\n",
              "                   Cuisine                                Cleaned-Ingredients  \\\n",
              "0                   Indian  salt,amchur (dry mango powder),karela (bitter ...   \n",
              "1     South Indian Recipes  tomato,salt,chickpea lentils,green chilli,rice...   \n",
              "2     South Indian Recipes  salt,rice vermicelli noodles (thin),asafoetida...   \n",
              "3                   Andhra  tomato,salt,ginger,sorrel leaves (gongura),fen...   \n",
              "4                   Andhra  tomato,salt,ginger,red chillies,curry,asafoeti...   \n",
              "...                    ...                                                ...   \n",
              "6033              American  flour, brown sugar, baking powder, milk, eggs,...   \n",
              "6034              American     chicken, lime, cumin, salsa, cheese, tortillas   \n",
              "6035              American       onion, garlic, mushrooms, broth, milk, flour   \n",
              "6036              American  ramen noodles, cabbage, carrot, eggs, soy sauc...   \n",
              "6037              American  white cake mix, strawberries, sugar, butter, eggs   \n",
              "\n",
              "                                              image-url  Ingredient-count  \\\n",
              "0     https://www.archanaskitchen.com/images/archana...              10.0   \n",
              "1     https://www.archanaskitchen.com/images/archana...              12.0   \n",
              "2     https://www.archanaskitchen.com/images/archana...              12.0   \n",
              "3     https://www.archanaskitchen.com/images/archana...              15.0   \n",
              "4     https://www.archanaskitchen.com/images/archana...              12.0   \n",
              "...                                                 ...               ...   \n",
              "6033  https://savoryspin.com/wp-content/uploads/2018...               NaN   \n",
              "6034  https://thestayathomechef.com/wp-content/uploa...               NaN   \n",
              "6035  https://www.tasteofhome.com/wp-content/uploads...               NaN   \n",
              "6036  https://www.tasteofhome.com/wp-content/uploads...               NaN   \n",
              "6037  https://www.google.com/imgres?imgurl=https%3A%...               NaN   \n",
              "\n",
              "      price  \n",
              "0        50  \n",
              "1        51  \n",
              "2        52  \n",
              "3        53  \n",
              "4        54  \n",
              "...     ...  \n",
              "6033    816  \n",
              "6034    817  \n",
              "6035    818  \n",
              "6036    819  \n",
              "6037    820  \n",
              "\n",
              "[6038 rows x 9 columns]>"
            ]
          },
          "metadata": {},
          "execution_count": 106
        }
      ]
    },
    {
      "cell_type": "markdown",
      "source": [
        "create tags for food\n",
        "taking foodID , recipe name, cuisine, cleaned ingredients"
      ],
      "metadata": {
        "id": "uKrJMkogwkzC"
      }
    },
    {
      "cell_type": "code",
      "source": [
        "df['Cuisine'].value_counts()"
      ],
      "metadata": {
        "colab": {
          "base_uri": "https://localhost:8080/"
        },
        "id": "oEHuapqUdBE0",
        "outputId": "a94fb3ed-67fc-4560-f75c-a2f03fa75ac0"
      },
      "execution_count": 107,
      "outputs": [
        {
          "output_type": "execute_result",
          "data": {
            "text/plain": [
              "Continental             952\n",
              "Indian                  927\n",
              "North Indian Recipes    763\n",
              "South Indian Recipes    558\n",
              "Italian Recipes         231\n",
              "                       ... \n",
              "Burmese                   1\n",
              "Shandong                  1\n",
              "Brunch                    1\n",
              "Lunch                     1\n",
              "Dessert                   1\n",
              "Name: Cuisine, Length: 82, dtype: int64"
            ]
          },
          "metadata": {},
          "execution_count": 107
        }
      ]
    },
    {
      "cell_type": "code",
      "source": [
        "df.info()"
      ],
      "metadata": {
        "colab": {
          "base_uri": "https://localhost:8080/"
        },
        "id": "phYmmh3MyPfv",
        "outputId": "096ed2eb-f068-4eeb-e11a-b4484846c256"
      },
      "execution_count": 108,
      "outputs": [
        {
          "output_type": "stream",
          "name": "stdout",
          "text": [
            "<class 'pandas.core.frame.DataFrame'>\n",
            "RangeIndex: 6038 entries, 0 to 6037\n",
            "Data columns (total 9 columns):\n",
            " #   Column                 Non-Null Count  Dtype  \n",
            "---  ------                 --------------  -----  \n",
            " 0   FoodID                 6038 non-null   int64  \n",
            " 1   TranslatedRecipeName   6038 non-null   object \n",
            " 2   TranslatedIngredients  5938 non-null   object \n",
            " 3   TotalTimeInMins        6038 non-null   int64  \n",
            " 4   Cuisine                6038 non-null   object \n",
            " 5   Cleaned-Ingredients    6038 non-null   object \n",
            " 6   image-url              6038 non-null   object \n",
            " 7   Ingredient-count       5938 non-null   float64\n",
            " 8   price                  6038 non-null   int64  \n",
            "dtypes: float64(1), int64(3), object(5)\n",
            "memory usage: 424.7+ KB\n"
          ]
        }
      ]
    },
    {
      "cell_type": "code",
      "source": [
        "df.isnull().sum()"
      ],
      "metadata": {
        "colab": {
          "base_uri": "https://localhost:8080/"
        },
        "id": "YFoEE8uU3LZM",
        "outputId": "ee34598f-8fdf-4339-eb4c-27d735c4ab35"
      },
      "execution_count": 109,
      "outputs": [
        {
          "output_type": "execute_result",
          "data": {
            "text/plain": [
              "FoodID                     0\n",
              "TranslatedRecipeName       0\n",
              "TranslatedIngredients    100\n",
              "TotalTimeInMins            0\n",
              "Cuisine                    0\n",
              "Cleaned-Ingredients        0\n",
              "image-url                  0\n",
              "Ingredient-count         100\n",
              "price                      0\n",
              "dtype: int64"
            ]
          },
          "metadata": {},
          "execution_count": 109
        }
      ]
    },
    {
      "cell_type": "markdown",
      "source": [
        "data preprocessing"
      ],
      "metadata": {
        "id": "-lKZYhSN0I8B"
      }
    },
    {
      "cell_type": "code",
      "source": [
        "df = df[['FoodID', 'TranslatedRecipeName', 'Cuisine', 'Cleaned-Ingredients']]"
      ],
      "metadata": {
        "id": "3b2bWy_1zkES"
      },
      "execution_count": 110,
      "outputs": []
    },
    {
      "cell_type": "code",
      "source": [
        "df.info()"
      ],
      "metadata": {
        "colab": {
          "base_uri": "https://localhost:8080/"
        },
        "id": "kedAvKKG0oN3",
        "outputId": "f888d2cc-e6be-4c6c-c50a-dbf929003aec"
      },
      "execution_count": 111,
      "outputs": [
        {
          "output_type": "stream",
          "name": "stdout",
          "text": [
            "<class 'pandas.core.frame.DataFrame'>\n",
            "RangeIndex: 6038 entries, 0 to 6037\n",
            "Data columns (total 4 columns):\n",
            " #   Column                Non-Null Count  Dtype \n",
            "---  ------                --------------  ----- \n",
            " 0   FoodID                6038 non-null   int64 \n",
            " 1   TranslatedRecipeName  6038 non-null   object\n",
            " 2   Cuisine               6038 non-null   object\n",
            " 3   Cleaned-Ingredients   6038 non-null   object\n",
            "dtypes: int64(1), object(3)\n",
            "memory usage: 188.8+ KB\n"
          ]
        }
      ]
    },
    {
      "cell_type": "code",
      "source": [
        "df.duplicated().sum()"
      ],
      "metadata": {
        "colab": {
          "base_uri": "https://localhost:8080/"
        },
        "id": "-_zv0GkQ0vQ_",
        "outputId": "d54eec86-ae45-4836-8f06-a4ecad631071"
      },
      "execution_count": 112,
      "outputs": [
        {
          "output_type": "execute_result",
          "data": {
            "text/plain": [
              "0"
            ]
          },
          "metadata": {},
          "execution_count": 112
        }
      ]
    },
    {
      "cell_type": "code",
      "source": [
        "df.iloc[0]"
      ],
      "metadata": {
        "colab": {
          "base_uri": "https://localhost:8080/"
        },
        "id": "0LJ3rPZi3E2m",
        "outputId": "a9c045a7-69b5-4faa-d675-3d7252eb5168"
      },
      "execution_count": 113,
      "outputs": [
        {
          "output_type": "execute_result",
          "data": {
            "text/plain": [
              "FoodID                                                                100\n",
              "TranslatedRecipeName                                 Masala Karela Recipe\n",
              "Cuisine                                                            Indian\n",
              "Cleaned-Ingredients     salt,amchur (dry mango powder),karela (bitter ...\n",
              "Name: 0, dtype: object"
            ]
          },
          "metadata": {},
          "execution_count": 113
        }
      ]
    },
    {
      "cell_type": "code",
      "source": [
        "df.iloc[0]['Cleaned-Ingredients']"
      ],
      "metadata": {
        "colab": {
          "base_uri": "https://localhost:8080/",
          "height": 53
        },
        "id": "1WJJhG3c5k3N",
        "outputId": "8ac2f282-5ac6-43fd-f361-3706187a1262"
      },
      "execution_count": 114,
      "outputs": [
        {
          "output_type": "execute_result",
          "data": {
            "text/plain": [
              "'salt,amchur (dry mango powder),karela (bitter gourd pavakkai),red chilli powder,gram flour (besan),onion,cumin seeds (jeera),coriander powder,turmeric powder,sunflower oil'"
            ],
            "application/vnd.google.colaboratory.intrinsic+json": {
              "type": "string"
            }
          },
          "metadata": {},
          "execution_count": 114
        }
      ]
    },
    {
      "cell_type": "code",
      "source": [],
      "metadata": {
        "id": "VvfAfUl05spT"
      },
      "execution_count": 114,
      "outputs": []
    },
    {
      "cell_type": "markdown",
      "source": [
        "we need to remove powder, seed, salt, oil, flour, cold, sugar, tumeric,"
      ],
      "metadata": {
        "id": "LzbZOj4T8cah"
      }
    },
    {
      "cell_type": "code",
      "source": [
        "\n"
      ],
      "metadata": {
        "id": "N9vOcFf091Fz"
      },
      "execution_count": 114,
      "outputs": []
    },
    {
      "cell_type": "code",
      "source": [
        "df.loc[0]"
      ],
      "metadata": {
        "colab": {
          "base_uri": "https://localhost:8080/"
        },
        "id": "E3nz3jgt-kap",
        "outputId": "1fbf2892-1d09-498a-e987-8950b1c09e7b"
      },
      "execution_count": 115,
      "outputs": [
        {
          "output_type": "execute_result",
          "data": {
            "text/plain": [
              "FoodID                                                                100\n",
              "TranslatedRecipeName                                 Masala Karela Recipe\n",
              "Cuisine                                                            Indian\n",
              "Cleaned-Ingredients     salt,amchur (dry mango powder),karela (bitter ...\n",
              "Name: 0, dtype: object"
            ]
          },
          "metadata": {},
          "execution_count": 115
        }
      ]
    },
    {
      "cell_type": "code",
      "source": [
        "df.loc[0]"
      ],
      "metadata": {
        "colab": {
          "base_uri": "https://localhost:8080/"
        },
        "id": "w1WZUa52_IuP",
        "outputId": "0cbcaa13-7155-4136-8fc7-f67af8fd7743"
      },
      "execution_count": 116,
      "outputs": [
        {
          "output_type": "execute_result",
          "data": {
            "text/plain": [
              "FoodID                                                                100\n",
              "TranslatedRecipeName                                 Masala Karela Recipe\n",
              "Cuisine                                                            Indian\n",
              "Cleaned-Ingredients     salt,amchur (dry mango powder),karela (bitter ...\n",
              "Name: 0, dtype: object"
            ]
          },
          "metadata": {},
          "execution_count": 116
        }
      ]
    },
    {
      "cell_type": "code",
      "source": [
        "# Remove spaces and parentheses\n",
        "import re\n",
        "def clean_ingredients(ingredient):\n",
        "\n",
        "    cleaned_ingredient = re.sub(r'[\\s\\(\\)]', '', ingredient)\n",
        "    return cleaned_ingredient\n",
        "df['Cleaned-Ingredients'] = df['Cleaned-Ingredients'].apply(lambda x: ','.join([clean_ingredients(ingredient) for ingredient in x.split(',')]))\n"
      ],
      "metadata": {
        "colab": {
          "base_uri": "https://localhost:8080/"
        },
        "id": "MHylG9Hj2J9X",
        "outputId": "ac8c8cc6-194f-43bf-a0a1-9b4f3938a78b"
      },
      "execution_count": 117,
      "outputs": [
        {
          "output_type": "stream",
          "name": "stderr",
          "text": [
            "<ipython-input-117-5bf318259210>:7: SettingWithCopyWarning: \n",
            "A value is trying to be set on a copy of a slice from a DataFrame.\n",
            "Try using .loc[row_indexer,col_indexer] = value instead\n",
            "\n",
            "See the caveats in the documentation: https://pandas.pydata.org/pandas-docs/stable/user_guide/indexing.html#returning-a-view-versus-a-copy\n",
            "  df['Cleaned-Ingredients'] = df['Cleaned-Ingredients'].apply(lambda x: ','.join([clean_ingredients(ingredient) for ingredient in x.split(',')]))\n"
          ]
        }
      ]
    },
    {
      "cell_type": "code",
      "source": [],
      "metadata": {
        "id": "fRn7khkyyzdz"
      },
      "execution_count": 118,
      "outputs": []
    },
    {
      "cell_type": "code",
      "source": [
        "df.sample\n"
      ],
      "metadata": {
        "colab": {
          "base_uri": "https://localhost:8080/"
        },
        "id": "KpAYH9_Ny5Zo",
        "outputId": "efa04075-1d46-4157-ce47-65c155858a99"
      },
      "execution_count": 119,
      "outputs": [
        {
          "output_type": "execute_result",
          "data": {
            "text/plain": [
              "<bound method NDFrame.sample of       FoodID                               TranslatedRecipeName  \\\n",
              "0        100                               Masala Karela Recipe   \n",
              "1        101                         Spicy Tomato Rice (Recipe)   \n",
              "2        102  Ragi Semiya Upma Recipe - Ragi Millet Vermicel...   \n",
              "3        103  Gongura Chicken Curry Recipe - Andhra Style Go...   \n",
              "4        104  Andhra Style Alam Pachadi Recipe - Adrak Chutn...   \n",
              "...      ...                                                ...   \n",
              "6033      96                       Brown Sugar Oatmeal Pancakes   \n",
              "6034      97                                 Lime Chicken Tacos   \n",
              "6035      98                       Quick Cream of Mushroom Soup   \n",
              "6036      99                               Egg Roll Noodle Bowl   \n",
              "6037     100                      Mamaw Emily’s Strawberry Cake   \n",
              "\n",
              "                   Cuisine                                Cleaned-Ingredients  \n",
              "0                   Indian  salt,amchurdrymangopowder,karelabittergourdpav...  \n",
              "1     South Indian Recipes  tomato,salt,chickpealentils,greenchilli,rice,m...  \n",
              "2     South Indian Recipes  salt,ricevermicellinoodlesthin,asafoetidahing,...  \n",
              "3                   Andhra  tomato,salt,ginger,sorrelleavesgongura,fennels...  \n",
              "4                   Andhra  tomato,salt,ginger,redchillies,curry,asafoetid...  \n",
              "...                    ...                                                ...  \n",
              "6033              American       flour,brownsugar,bakingpowder,milk,eggs,oats  \n",
              "6034              American          chicken,lime,cumin,salsa,cheese,tortillas  \n",
              "6035              American            onion,garlic,mushrooms,broth,milk,flour  \n",
              "6036              American  ramennoodles,cabbage,carrot,eggs,soysauce,sesa...  \n",
              "6037              American        whitecakemix,strawberries,sugar,butter,eggs  \n",
              "\n",
              "[6038 rows x 4 columns]>"
            ]
          },
          "metadata": {},
          "execution_count": 119
        }
      ]
    },
    {
      "cell_type": "code",
      "source": [
        "#redundant\n",
        "#df['Cleaned-Ingredients'] = df['Cleaned-Ingredients'].apply(lambda x: ','.join([word.replace(\" \", \"\") for word in x]))\n"
      ],
      "metadata": {
        "id": "J6RE6vpczQB_"
      },
      "execution_count": 120,
      "outputs": []
    },
    {
      "cell_type": "code",
      "source": [
        "#abc def -> abcdef   -redundant\n",
        "#df['Cleaned-Ingredients'] = df['Cleaned-Ingredients'].apply(lambda x: [i.replace(\" \", \"\") for i in x])"
      ],
      "metadata": {
        "id": "trORd79TwcNO"
      },
      "execution_count": 121,
      "outputs": []
    },
    {
      "cell_type": "code",
      "source": [
        "#remove ()  -redundant\n",
        "# df['Cleaned-Ingredients'] = df['Cleaned-Ingredients'].str.replace(r'\\(|\\)', '', regex=True)\n"
      ],
      "metadata": {
        "id": "zNeWrMGr_pv5"
      },
      "execution_count": 122,
      "outputs": []
    },
    {
      "cell_type": "code",
      "source": [
        "df.sample"
      ],
      "metadata": {
        "colab": {
          "base_uri": "https://localhost:8080/"
        },
        "id": "hcug794R_0R4",
        "outputId": "49a1ac76-f4aa-4330-f693-df38fd601765"
      },
      "execution_count": 123,
      "outputs": [
        {
          "output_type": "execute_result",
          "data": {
            "text/plain": [
              "<bound method NDFrame.sample of       FoodID                               TranslatedRecipeName  \\\n",
              "0        100                               Masala Karela Recipe   \n",
              "1        101                         Spicy Tomato Rice (Recipe)   \n",
              "2        102  Ragi Semiya Upma Recipe - Ragi Millet Vermicel...   \n",
              "3        103  Gongura Chicken Curry Recipe - Andhra Style Go...   \n",
              "4        104  Andhra Style Alam Pachadi Recipe - Adrak Chutn...   \n",
              "...      ...                                                ...   \n",
              "6033      96                       Brown Sugar Oatmeal Pancakes   \n",
              "6034      97                                 Lime Chicken Tacos   \n",
              "6035      98                       Quick Cream of Mushroom Soup   \n",
              "6036      99                               Egg Roll Noodle Bowl   \n",
              "6037     100                      Mamaw Emily’s Strawberry Cake   \n",
              "\n",
              "                   Cuisine                                Cleaned-Ingredients  \n",
              "0                   Indian  salt,amchurdrymangopowder,karelabittergourdpav...  \n",
              "1     South Indian Recipes  tomato,salt,chickpealentils,greenchilli,rice,m...  \n",
              "2     South Indian Recipes  salt,ricevermicellinoodlesthin,asafoetidahing,...  \n",
              "3                   Andhra  tomato,salt,ginger,sorrelleavesgongura,fennels...  \n",
              "4                   Andhra  tomato,salt,ginger,redchillies,curry,asafoetid...  \n",
              "...                    ...                                                ...  \n",
              "6033              American       flour,brownsugar,bakingpowder,milk,eggs,oats  \n",
              "6034              American          chicken,lime,cumin,salsa,cheese,tortillas  \n",
              "6035              American            onion,garlic,mushrooms,broth,milk,flour  \n",
              "6036              American  ramennoodles,cabbage,carrot,eggs,soysauce,sesa...  \n",
              "6037              American        whitecakemix,strawberries,sugar,butter,eggs  \n",
              "\n",
              "[6038 rows x 4 columns]>"
            ]
          },
          "metadata": {},
          "execution_count": 123
        }
      ]
    },
    {
      "cell_type": "code",
      "source": [
        "#creating array\n",
        "df['Cleaned-Ingredients'] = df['Cleaned-Ingredients'].apply(lambda x: x.split())\n"
      ],
      "metadata": {
        "colab": {
          "base_uri": "https://localhost:8080/"
        },
        "id": "mkgZAuQM_38w",
        "outputId": "29af66ad-a745-409b-8447-9c47e579b91d"
      },
      "execution_count": 127,
      "outputs": [
        {
          "output_type": "stream",
          "name": "stderr",
          "text": [
            "<ipython-input-127-d9f20a0c3ff3>:2: SettingWithCopyWarning: \n",
            "A value is trying to be set on a copy of a slice from a DataFrame.\n",
            "Try using .loc[row_indexer,col_indexer] = value instead\n",
            "\n",
            "See the caveats in the documentation: https://pandas.pydata.org/pandas-docs/stable/user_guide/indexing.html#returning-a-view-versus-a-copy\n",
            "  df['Cleaned-Ingredients'] = df['Cleaned-Ingredients'].apply(lambda x: x.split())\n"
          ]
        }
      ]
    },
    {
      "cell_type": "code",
      "source": [],
      "metadata": {
        "id": "RCDyfwJRI4IF"
      },
      "execution_count": 124,
      "outputs": []
    },
    {
      "cell_type": "code",
      "source": [
        "df.sample"
      ],
      "metadata": {
        "colab": {
          "base_uri": "https://localhost:8080/"
        },
        "id": "3j6sNFk8ANVY",
        "outputId": "6de3f78f-e059-4a2e-833d-25d35a897f41"
      },
      "execution_count": 128,
      "outputs": [
        {
          "output_type": "execute_result",
          "data": {
            "text/plain": [
              "<bound method NDFrame.sample of       FoodID                               TranslatedRecipeName  \\\n",
              "0        100                               Masala Karela Recipe   \n",
              "1        101                         Spicy Tomato Rice (Recipe)   \n",
              "2        102  Ragi Semiya Upma Recipe - Ragi Millet Vermicel...   \n",
              "3        103  Gongura Chicken Curry Recipe - Andhra Style Go...   \n",
              "4        104  Andhra Style Alam Pachadi Recipe - Adrak Chutn...   \n",
              "...      ...                                                ...   \n",
              "6033      96                       Brown Sugar Oatmeal Pancakes   \n",
              "6034      97                                 Lime Chicken Tacos   \n",
              "6035      98                       Quick Cream of Mushroom Soup   \n",
              "6036      99                               Egg Roll Noodle Bowl   \n",
              "6037     100                      Mamaw Emily’s Strawberry Cake   \n",
              "\n",
              "                   Cuisine                                Cleaned-Ingredients  \n",
              "0                   Indian  [salt,amchurdrymangopowder,karelabittergourdpa...  \n",
              "1     South Indian Recipes  [tomato,salt,chickpealentils,greenchilli,rice,...  \n",
              "2     South Indian Recipes  [salt,ricevermicellinoodlesthin,asafoetidahing...  \n",
              "3                   Andhra  [tomato,salt,ginger,sorrelleavesgongura,fennel...  \n",
              "4                   Andhra  [tomato,salt,ginger,redchillies,curry,asafoeti...  \n",
              "...                    ...                                                ...  \n",
              "6033              American     [flour,brownsugar,bakingpowder,milk,eggs,oats]  \n",
              "6034              American        [chicken,lime,cumin,salsa,cheese,tortillas]  \n",
              "6035              American          [onion,garlic,mushrooms,broth,milk,flour]  \n",
              "6036              American  [ramennoodles,cabbage,carrot,eggs,soysauce,ses...  \n",
              "6037              American      [whitecakemix,strawberries,sugar,butter,eggs]  \n",
              "\n",
              "[6038 rows x 4 columns]>"
            ]
          },
          "metadata": {},
          "execution_count": 128
        }
      ]
    },
    {
      "cell_type": "code",
      "source": [
        "#for cuisine\n",
        "df['Cuisine'] = df['Cuisine'].apply(lambda x: ','.join([clean_ingredients(ingredient) for ingredient in x.split(',')]))\n",
        "#array\n"
      ],
      "metadata": {
        "colab": {
          "base_uri": "https://localhost:8080/"
        },
        "id": "XntHSuSwAY8W",
        "outputId": "a4ee4996-51a2-4989-c0ce-9dd08cb62c16"
      },
      "execution_count": 129,
      "outputs": [
        {
          "output_type": "stream",
          "name": "stderr",
          "text": [
            "<ipython-input-129-987d14cba233>:2: SettingWithCopyWarning: \n",
            "A value is trying to be set on a copy of a slice from a DataFrame.\n",
            "Try using .loc[row_indexer,col_indexer] = value instead\n",
            "\n",
            "See the caveats in the documentation: https://pandas.pydata.org/pandas-docs/stable/user_guide/indexing.html#returning-a-view-versus-a-copy\n",
            "  df['Cuisine'] = df['Cuisine'].apply(lambda x: ','.join([clean_ingredients(ingredient) for ingredient in x.split(',')]))\n"
          ]
        }
      ]
    },
    {
      "cell_type": "code",
      "source": [
        "df.sample\n"
      ],
      "metadata": {
        "id": "xRTfRzD8JIuQ",
        "colab": {
          "base_uri": "https://localhost:8080/"
        },
        "outputId": "afe33f6b-4415-4e16-e7fc-40baee7dd4bd"
      },
      "execution_count": 130,
      "outputs": [
        {
          "output_type": "execute_result",
          "data": {
            "text/plain": [
              "<bound method NDFrame.sample of       FoodID                               TranslatedRecipeName  \\\n",
              "0        100                               Masala Karela Recipe   \n",
              "1        101                         Spicy Tomato Rice (Recipe)   \n",
              "2        102  Ragi Semiya Upma Recipe - Ragi Millet Vermicel...   \n",
              "3        103  Gongura Chicken Curry Recipe - Andhra Style Go...   \n",
              "4        104  Andhra Style Alam Pachadi Recipe - Adrak Chutn...   \n",
              "...      ...                                                ...   \n",
              "6033      96                       Brown Sugar Oatmeal Pancakes   \n",
              "6034      97                                 Lime Chicken Tacos   \n",
              "6035      98                       Quick Cream of Mushroom Soup   \n",
              "6036      99                               Egg Roll Noodle Bowl   \n",
              "6037     100                      Mamaw Emily’s Strawberry Cake   \n",
              "\n",
              "                 Cuisine                                Cleaned-Ingredients  \n",
              "0                 Indian  [salt,amchurdrymangopowder,karelabittergourdpa...  \n",
              "1     SouthIndianRecipes  [tomato,salt,chickpealentils,greenchilli,rice,...  \n",
              "2     SouthIndianRecipes  [salt,ricevermicellinoodlesthin,asafoetidahing...  \n",
              "3                 Andhra  [tomato,salt,ginger,sorrelleavesgongura,fennel...  \n",
              "4                 Andhra  [tomato,salt,ginger,redchillies,curry,asafoeti...  \n",
              "...                  ...                                                ...  \n",
              "6033            American     [flour,brownsugar,bakingpowder,milk,eggs,oats]  \n",
              "6034            American        [chicken,lime,cumin,salsa,cheese,tortillas]  \n",
              "6035            American          [onion,garlic,mushrooms,broth,milk,flour]  \n",
              "6036            American  [ramennoodles,cabbage,carrot,eggs,soysauce,ses...  \n",
              "6037            American      [whitecakemix,strawberries,sugar,butter,eggs]  \n",
              "\n",
              "[6038 rows x 4 columns]>"
            ]
          },
          "metadata": {},
          "execution_count": 130
        }
      ]
    },
    {
      "cell_type": "code",
      "source": [
        "#array for cuisine\n",
        "df['Cuisine'] = df['Cuisine'].apply(lambda x: x.split())\n"
      ],
      "metadata": {
        "colab": {
          "base_uri": "https://localhost:8080/"
        },
        "id": "67UtmCUq3jv0",
        "outputId": "eba786ea-b933-49da-9f5f-42136502c8bc"
      },
      "execution_count": 131,
      "outputs": [
        {
          "output_type": "stream",
          "name": "stderr",
          "text": [
            "<ipython-input-131-04436b234119>:2: SettingWithCopyWarning: \n",
            "A value is trying to be set on a copy of a slice from a DataFrame.\n",
            "Try using .loc[row_indexer,col_indexer] = value instead\n",
            "\n",
            "See the caveats in the documentation: https://pandas.pydata.org/pandas-docs/stable/user_guide/indexing.html#returning-a-view-versus-a-copy\n",
            "  df['Cuisine'] = df['Cuisine'].apply(lambda x: x.split())\n"
          ]
        }
      ]
    },
    {
      "cell_type": "code",
      "source": [
        "df.sample"
      ],
      "metadata": {
        "colab": {
          "base_uri": "https://localhost:8080/"
        },
        "id": "zaTyJcRp30Ac",
        "outputId": "f27744ee-89f0-44e6-ea12-b5ce5a8ee6c1"
      },
      "execution_count": 132,
      "outputs": [
        {
          "output_type": "execute_result",
          "data": {
            "text/plain": [
              "<bound method NDFrame.sample of       FoodID                               TranslatedRecipeName  \\\n",
              "0        100                               Masala Karela Recipe   \n",
              "1        101                         Spicy Tomato Rice (Recipe)   \n",
              "2        102  Ragi Semiya Upma Recipe - Ragi Millet Vermicel...   \n",
              "3        103  Gongura Chicken Curry Recipe - Andhra Style Go...   \n",
              "4        104  Andhra Style Alam Pachadi Recipe - Adrak Chutn...   \n",
              "...      ...                                                ...   \n",
              "6033      96                       Brown Sugar Oatmeal Pancakes   \n",
              "6034      97                                 Lime Chicken Tacos   \n",
              "6035      98                       Quick Cream of Mushroom Soup   \n",
              "6036      99                               Egg Roll Noodle Bowl   \n",
              "6037     100                      Mamaw Emily’s Strawberry Cake   \n",
              "\n",
              "                   Cuisine                                Cleaned-Ingredients  \n",
              "0                 [Indian]  [salt,amchurdrymangopowder,karelabittergourdpa...  \n",
              "1     [SouthIndianRecipes]  [tomato,salt,chickpealentils,greenchilli,rice,...  \n",
              "2     [SouthIndianRecipes]  [salt,ricevermicellinoodlesthin,asafoetidahing...  \n",
              "3                 [Andhra]  [tomato,salt,ginger,sorrelleavesgongura,fennel...  \n",
              "4                 [Andhra]  [tomato,salt,ginger,redchillies,curry,asafoeti...  \n",
              "...                    ...                                                ...  \n",
              "6033            [American]     [flour,brownsugar,bakingpowder,milk,eggs,oats]  \n",
              "6034            [American]        [chicken,lime,cumin,salsa,cheese,tortillas]  \n",
              "6035            [American]          [onion,garlic,mushrooms,broth,milk,flour]  \n",
              "6036            [American]  [ramennoodles,cabbage,carrot,eggs,soysauce,ses...  \n",
              "6037            [American]      [whitecakemix,strawberries,sugar,butter,eggs]  \n",
              "\n",
              "[6038 rows x 4 columns]>"
            ]
          },
          "metadata": {},
          "execution_count": 132
        }
      ]
    },
    {
      "cell_type": "code",
      "source": [
        "#removing items\n",
        "remove_array = ['salt', 'sugar']\n",
        "df['Cleaned-Ingredients'] = df['Cleaned-Ingredients'].apply(lambda x: [item for item in x if item not in remove_array])\n"
      ],
      "metadata": {
        "colab": {
          "base_uri": "https://localhost:8080/"
        },
        "id": "B3uQa7cv32bU",
        "outputId": "70f77549-8e34-4bda-ef85-f973d2c89ccd"
      },
      "execution_count": 136,
      "outputs": [
        {
          "output_type": "stream",
          "name": "stderr",
          "text": [
            "<ipython-input-136-895d1c592aa5>:3: SettingWithCopyWarning: \n",
            "A value is trying to be set on a copy of a slice from a DataFrame.\n",
            "Try using .loc[row_indexer,col_indexer] = value instead\n",
            "\n",
            "See the caveats in the documentation: https://pandas.pydata.org/pandas-docs/stable/user_guide/indexing.html#returning-a-view-versus-a-copy\n",
            "  df['Cleaned-Ingredients'] = df['Cleaned-Ingredients'].apply(lambda x: [item for item in x if item not in remove_array])\n"
          ]
        }
      ]
    },
    {
      "cell_type": "code",
      "source": [
        "df.sample"
      ],
      "metadata": {
        "colab": {
          "base_uri": "https://localhost:8080/"
        },
        "id": "f6OzMi4F5jFJ",
        "outputId": "6728aef9-dcd3-4831-ce14-a291c1e02945"
      },
      "execution_count": 138,
      "outputs": [
        {
          "output_type": "execute_result",
          "data": {
            "text/plain": [
              "<bound method NDFrame.sample of       FoodID                               TranslatedRecipeName  \\\n",
              "0        100                               Masala Karela Recipe   \n",
              "1        101                         Spicy Tomato Rice (Recipe)   \n",
              "2        102  Ragi Semiya Upma Recipe - Ragi Millet Vermicel...   \n",
              "3        103  Gongura Chicken Curry Recipe - Andhra Style Go...   \n",
              "4        104  Andhra Style Alam Pachadi Recipe - Adrak Chutn...   \n",
              "...      ...                                                ...   \n",
              "6033      96                       Brown Sugar Oatmeal Pancakes   \n",
              "6034      97                                 Lime Chicken Tacos   \n",
              "6035      98                       Quick Cream of Mushroom Soup   \n",
              "6036      99                               Egg Roll Noodle Bowl   \n",
              "6037     100                      Mamaw Emily’s Strawberry Cake   \n",
              "\n",
              "                   Cuisine                                Cleaned-Ingredients  \n",
              "0                 [Indian]  [salt,amchurdrymangopowder,karelabittergourdpa...  \n",
              "1     [SouthIndianRecipes]  [tomato,salt,chickpealentils,greenchilli,rice,...  \n",
              "2     [SouthIndianRecipes]  [salt,ricevermicellinoodlesthin,asafoetidahing...  \n",
              "3                 [Andhra]  [tomato,salt,ginger,sorrelleavesgongura,fennel...  \n",
              "4                 [Andhra]  [tomato,salt,ginger,redchillies,curry,asafoeti...  \n",
              "...                    ...                                                ...  \n",
              "6033            [American]     [flour,brownsugar,bakingpowder,milk,eggs,oats]  \n",
              "6034            [American]        [chicken,lime,cumin,salsa,cheese,tortillas]  \n",
              "6035            [American]          [onion,garlic,mushrooms,broth,milk,flour]  \n",
              "6036            [American]  [ramennoodles,cabbage,carrot,eggs,soysauce,ses...  \n",
              "6037            [American]      [whitecakemix,strawberries,sugar,butter,eggs]  \n",
              "\n",
              "[6038 rows x 4 columns]>"
            ]
          },
          "metadata": {},
          "execution_count": 138
        }
      ]
    },
    {
      "cell_type": "markdown",
      "source": [
        "joining Cuisine and Cleaned-Ingredients  as tags"
      ],
      "metadata": {
        "id": "Ovl4ltSX4ILF"
      }
    },
    {
      "cell_type": "code",
      "source": [
        "df['keywords'] = df['Cleaned-Ingredients'] + df['Cuisine']"
      ],
      "metadata": {
        "colab": {
          "base_uri": "https://localhost:8080/"
        },
        "id": "CVXO3NUa4Ntr",
        "outputId": "fc03936d-7641-468f-9a1f-1364c2651e62"
      },
      "execution_count": 139,
      "outputs": [
        {
          "output_type": "stream",
          "name": "stderr",
          "text": [
            "<ipython-input-139-5f9d7f0041d0>:1: SettingWithCopyWarning: \n",
            "A value is trying to be set on a copy of a slice from a DataFrame.\n",
            "Try using .loc[row_indexer,col_indexer] = value instead\n",
            "\n",
            "See the caveats in the documentation: https://pandas.pydata.org/pandas-docs/stable/user_guide/indexing.html#returning-a-view-versus-a-copy\n",
            "  df['keywords'] = df['Cleaned-Ingredients'] + df['Cuisine']\n"
          ]
        }
      ]
    },
    {
      "cell_type": "code",
      "source": [
        "df.head()"
      ],
      "metadata": {
        "colab": {
          "base_uri": "https://localhost:8080/",
          "height": 258
        },
        "id": "g0tjc1z06ROZ",
        "outputId": "62e7bb78-cb33-4234-bd6d-143c7fd27c91"
      },
      "execution_count": 142,
      "outputs": [
        {
          "output_type": "execute_result",
          "data": {
            "text/plain": [
              "   FoodID                               TranslatedRecipeName  \\\n",
              "0     100                               Masala Karela Recipe   \n",
              "1     101                         Spicy Tomato Rice (Recipe)   \n",
              "2     102  Ragi Semiya Upma Recipe - Ragi Millet Vermicel...   \n",
              "3     103  Gongura Chicken Curry Recipe - Andhra Style Go...   \n",
              "4     104  Andhra Style Alam Pachadi Recipe - Adrak Chutn...   \n",
              "\n",
              "                Cuisine                                Cleaned-Ingredients  \\\n",
              "0              [Indian]  [salt,amchurdrymangopowder,karelabittergourdpa...   \n",
              "1  [SouthIndianRecipes]  [tomato,salt,chickpealentils,greenchilli,rice,...   \n",
              "2  [SouthIndianRecipes]  [salt,ricevermicellinoodlesthin,asafoetidahing...   \n",
              "3              [Andhra]  [tomato,salt,ginger,sorrelleavesgongura,fennel...   \n",
              "4              [Andhra]  [tomato,salt,ginger,redchillies,curry,asafoeti...   \n",
              "\n",
              "                                            keywords  \n",
              "0  [salt,amchurdrymangopowder,karelabittergourdpa...  \n",
              "1  [tomato,salt,chickpealentils,greenchilli,rice,...  \n",
              "2  [salt,ricevermicellinoodlesthin,asafoetidahing...  \n",
              "3  [tomato,salt,ginger,sorrelleavesgongura,fennel...  \n",
              "4  [tomato,salt,ginger,redchillies,curry,asafoeti...  "
            ],
            "text/html": [
              "\n",
              "  <div id=\"df-a12c4bbe-a0ff-4a98-afba-55612baf17b6\" class=\"colab-df-container\">\n",
              "    <div>\n",
              "<style scoped>\n",
              "    .dataframe tbody tr th:only-of-type {\n",
              "        vertical-align: middle;\n",
              "    }\n",
              "\n",
              "    .dataframe tbody tr th {\n",
              "        vertical-align: top;\n",
              "    }\n",
              "\n",
              "    .dataframe thead th {\n",
              "        text-align: right;\n",
              "    }\n",
              "</style>\n",
              "<table border=\"1\" class=\"dataframe\">\n",
              "  <thead>\n",
              "    <tr style=\"text-align: right;\">\n",
              "      <th></th>\n",
              "      <th>FoodID</th>\n",
              "      <th>TranslatedRecipeName</th>\n",
              "      <th>Cuisine</th>\n",
              "      <th>Cleaned-Ingredients</th>\n",
              "      <th>keywords</th>\n",
              "    </tr>\n",
              "  </thead>\n",
              "  <tbody>\n",
              "    <tr>\n",
              "      <th>0</th>\n",
              "      <td>100</td>\n",
              "      <td>Masala Karela Recipe</td>\n",
              "      <td>[Indian]</td>\n",
              "      <td>[salt,amchurdrymangopowder,karelabittergourdpa...</td>\n",
              "      <td>[salt,amchurdrymangopowder,karelabittergourdpa...</td>\n",
              "    </tr>\n",
              "    <tr>\n",
              "      <th>1</th>\n",
              "      <td>101</td>\n",
              "      <td>Spicy Tomato Rice (Recipe)</td>\n",
              "      <td>[SouthIndianRecipes]</td>\n",
              "      <td>[tomato,salt,chickpealentils,greenchilli,rice,...</td>\n",
              "      <td>[tomato,salt,chickpealentils,greenchilli,rice,...</td>\n",
              "    </tr>\n",
              "    <tr>\n",
              "      <th>2</th>\n",
              "      <td>102</td>\n",
              "      <td>Ragi Semiya Upma Recipe - Ragi Millet Vermicel...</td>\n",
              "      <td>[SouthIndianRecipes]</td>\n",
              "      <td>[salt,ricevermicellinoodlesthin,asafoetidahing...</td>\n",
              "      <td>[salt,ricevermicellinoodlesthin,asafoetidahing...</td>\n",
              "    </tr>\n",
              "    <tr>\n",
              "      <th>3</th>\n",
              "      <td>103</td>\n",
              "      <td>Gongura Chicken Curry Recipe - Andhra Style Go...</td>\n",
              "      <td>[Andhra]</td>\n",
              "      <td>[tomato,salt,ginger,sorrelleavesgongura,fennel...</td>\n",
              "      <td>[tomato,salt,ginger,sorrelleavesgongura,fennel...</td>\n",
              "    </tr>\n",
              "    <tr>\n",
              "      <th>4</th>\n",
              "      <td>104</td>\n",
              "      <td>Andhra Style Alam Pachadi Recipe - Adrak Chutn...</td>\n",
              "      <td>[Andhra]</td>\n",
              "      <td>[tomato,salt,ginger,redchillies,curry,asafoeti...</td>\n",
              "      <td>[tomato,salt,ginger,redchillies,curry,asafoeti...</td>\n",
              "    </tr>\n",
              "  </tbody>\n",
              "</table>\n",
              "</div>\n",
              "    <div class=\"colab-df-buttons\">\n",
              "\n",
              "  <div class=\"colab-df-container\">\n",
              "    <button class=\"colab-df-convert\" onclick=\"convertToInteractive('df-a12c4bbe-a0ff-4a98-afba-55612baf17b6')\"\n",
              "            title=\"Convert this dataframe to an interactive table.\"\n",
              "            style=\"display:none;\">\n",
              "\n",
              "  <svg xmlns=\"http://www.w3.org/2000/svg\" height=\"24px\" viewBox=\"0 -960 960 960\">\n",
              "    <path d=\"M120-120v-720h720v720H120Zm60-500h600v-160H180v160Zm220 220h160v-160H400v160Zm0 220h160v-160H400v160ZM180-400h160v-160H180v160Zm440 0h160v-160H620v160ZM180-180h160v-160H180v160Zm440 0h160v-160H620v160Z\"/>\n",
              "  </svg>\n",
              "    </button>\n",
              "\n",
              "  <style>\n",
              "    .colab-df-container {\n",
              "      display:flex;\n",
              "      gap: 12px;\n",
              "    }\n",
              "\n",
              "    .colab-df-convert {\n",
              "      background-color: #E8F0FE;\n",
              "      border: none;\n",
              "      border-radius: 50%;\n",
              "      cursor: pointer;\n",
              "      display: none;\n",
              "      fill: #1967D2;\n",
              "      height: 32px;\n",
              "      padding: 0 0 0 0;\n",
              "      width: 32px;\n",
              "    }\n",
              "\n",
              "    .colab-df-convert:hover {\n",
              "      background-color: #E2EBFA;\n",
              "      box-shadow: 0px 1px 2px rgba(60, 64, 67, 0.3), 0px 1px 3px 1px rgba(60, 64, 67, 0.15);\n",
              "      fill: #174EA6;\n",
              "    }\n",
              "\n",
              "    .colab-df-buttons div {\n",
              "      margin-bottom: 4px;\n",
              "    }\n",
              "\n",
              "    [theme=dark] .colab-df-convert {\n",
              "      background-color: #3B4455;\n",
              "      fill: #D2E3FC;\n",
              "    }\n",
              "\n",
              "    [theme=dark] .colab-df-convert:hover {\n",
              "      background-color: #434B5C;\n",
              "      box-shadow: 0px 1px 3px 1px rgba(0, 0, 0, 0.15);\n",
              "      filter: drop-shadow(0px 1px 2px rgba(0, 0, 0, 0.3));\n",
              "      fill: #FFFFFF;\n",
              "    }\n",
              "  </style>\n",
              "\n",
              "    <script>\n",
              "      const buttonEl =\n",
              "        document.querySelector('#df-a12c4bbe-a0ff-4a98-afba-55612baf17b6 button.colab-df-convert');\n",
              "      buttonEl.style.display =\n",
              "        google.colab.kernel.accessAllowed ? 'block' : 'none';\n",
              "\n",
              "      async function convertToInteractive(key) {\n",
              "        const element = document.querySelector('#df-a12c4bbe-a0ff-4a98-afba-55612baf17b6');\n",
              "        const dataTable =\n",
              "          await google.colab.kernel.invokeFunction('convertToInteractive',\n",
              "                                                    [key], {});\n",
              "        if (!dataTable) return;\n",
              "\n",
              "        const docLinkHtml = 'Like what you see? Visit the ' +\n",
              "          '<a target=\"_blank\" href=https://colab.research.google.com/notebooks/data_table.ipynb>data table notebook</a>'\n",
              "          + ' to learn more about interactive tables.';\n",
              "        element.innerHTML = '';\n",
              "        dataTable['output_type'] = 'display_data';\n",
              "        await google.colab.output.renderOutput(dataTable, element);\n",
              "        const docLink = document.createElement('div');\n",
              "        docLink.innerHTML = docLinkHtml;\n",
              "        element.appendChild(docLink);\n",
              "      }\n",
              "    </script>\n",
              "  </div>\n",
              "\n",
              "\n",
              "<div id=\"df-4c46354b-6632-4006-8cc8-caf2d07ae508\">\n",
              "  <button class=\"colab-df-quickchart\" onclick=\"quickchart('df-4c46354b-6632-4006-8cc8-caf2d07ae508')\"\n",
              "            title=\"Suggest charts\"\n",
              "            style=\"display:none;\">\n",
              "\n",
              "<svg xmlns=\"http://www.w3.org/2000/svg\" height=\"24px\"viewBox=\"0 0 24 24\"\n",
              "     width=\"24px\">\n",
              "    <g>\n",
              "        <path d=\"M19 3H5c-1.1 0-2 .9-2 2v14c0 1.1.9 2 2 2h14c1.1 0 2-.9 2-2V5c0-1.1-.9-2-2-2zM9 17H7v-7h2v7zm4 0h-2V7h2v10zm4 0h-2v-4h2v4z\"/>\n",
              "    </g>\n",
              "</svg>\n",
              "  </button>\n",
              "\n",
              "<style>\n",
              "  .colab-df-quickchart {\n",
              "      --bg-color: #E8F0FE;\n",
              "      --fill-color: #1967D2;\n",
              "      --hover-bg-color: #E2EBFA;\n",
              "      --hover-fill-color: #174EA6;\n",
              "      --disabled-fill-color: #AAA;\n",
              "      --disabled-bg-color: #DDD;\n",
              "  }\n",
              "\n",
              "  [theme=dark] .colab-df-quickchart {\n",
              "      --bg-color: #3B4455;\n",
              "      --fill-color: #D2E3FC;\n",
              "      --hover-bg-color: #434B5C;\n",
              "      --hover-fill-color: #FFFFFF;\n",
              "      --disabled-bg-color: #3B4455;\n",
              "      --disabled-fill-color: #666;\n",
              "  }\n",
              "\n",
              "  .colab-df-quickchart {\n",
              "    background-color: var(--bg-color);\n",
              "    border: none;\n",
              "    border-radius: 50%;\n",
              "    cursor: pointer;\n",
              "    display: none;\n",
              "    fill: var(--fill-color);\n",
              "    height: 32px;\n",
              "    padding: 0;\n",
              "    width: 32px;\n",
              "  }\n",
              "\n",
              "  .colab-df-quickchart:hover {\n",
              "    background-color: var(--hover-bg-color);\n",
              "    box-shadow: 0 1px 2px rgba(60, 64, 67, 0.3), 0 1px 3px 1px rgba(60, 64, 67, 0.15);\n",
              "    fill: var(--button-hover-fill-color);\n",
              "  }\n",
              "\n",
              "  .colab-df-quickchart-complete:disabled,\n",
              "  .colab-df-quickchart-complete:disabled:hover {\n",
              "    background-color: var(--disabled-bg-color);\n",
              "    fill: var(--disabled-fill-color);\n",
              "    box-shadow: none;\n",
              "  }\n",
              "\n",
              "  .colab-df-spinner {\n",
              "    border: 2px solid var(--fill-color);\n",
              "    border-color: transparent;\n",
              "    border-bottom-color: var(--fill-color);\n",
              "    animation:\n",
              "      spin 1s steps(1) infinite;\n",
              "  }\n",
              "\n",
              "  @keyframes spin {\n",
              "    0% {\n",
              "      border-color: transparent;\n",
              "      border-bottom-color: var(--fill-color);\n",
              "      border-left-color: var(--fill-color);\n",
              "    }\n",
              "    20% {\n",
              "      border-color: transparent;\n",
              "      border-left-color: var(--fill-color);\n",
              "      border-top-color: var(--fill-color);\n",
              "    }\n",
              "    30% {\n",
              "      border-color: transparent;\n",
              "      border-left-color: var(--fill-color);\n",
              "      border-top-color: var(--fill-color);\n",
              "      border-right-color: var(--fill-color);\n",
              "    }\n",
              "    40% {\n",
              "      border-color: transparent;\n",
              "      border-right-color: var(--fill-color);\n",
              "      border-top-color: var(--fill-color);\n",
              "    }\n",
              "    60% {\n",
              "      border-color: transparent;\n",
              "      border-right-color: var(--fill-color);\n",
              "    }\n",
              "    80% {\n",
              "      border-color: transparent;\n",
              "      border-right-color: var(--fill-color);\n",
              "      border-bottom-color: var(--fill-color);\n",
              "    }\n",
              "    90% {\n",
              "      border-color: transparent;\n",
              "      border-bottom-color: var(--fill-color);\n",
              "    }\n",
              "  }\n",
              "</style>\n",
              "\n",
              "  <script>\n",
              "    async function quickchart(key) {\n",
              "      const quickchartButtonEl =\n",
              "        document.querySelector('#' + key + ' button');\n",
              "      quickchartButtonEl.disabled = true;  // To prevent multiple clicks.\n",
              "      quickchartButtonEl.classList.add('colab-df-spinner');\n",
              "      try {\n",
              "        const charts = await google.colab.kernel.invokeFunction(\n",
              "            'suggestCharts', [key], {});\n",
              "      } catch (error) {\n",
              "        console.error('Error during call to suggestCharts:', error);\n",
              "      }\n",
              "      quickchartButtonEl.classList.remove('colab-df-spinner');\n",
              "      quickchartButtonEl.classList.add('colab-df-quickchart-complete');\n",
              "    }\n",
              "    (() => {\n",
              "      let quickchartButtonEl =\n",
              "        document.querySelector('#df-4c46354b-6632-4006-8cc8-caf2d07ae508 button');\n",
              "      quickchartButtonEl.style.display =\n",
              "        google.colab.kernel.accessAllowed ? 'block' : 'none';\n",
              "    })();\n",
              "  </script>\n",
              "</div>\n",
              "\n",
              "    </div>\n",
              "  </div>\n"
            ]
          },
          "metadata": {},
          "execution_count": 142
        }
      ]
    },
    {
      "cell_type": "code",
      "source": [
        "df['keywords'][0]"
      ],
      "metadata": {
        "colab": {
          "base_uri": "https://localhost:8080/"
        },
        "id": "4aiizunh6Tty",
        "outputId": "78c062c3-b254-4b44-bf4c-9dbe54500a98"
      },
      "execution_count": 141,
      "outputs": [
        {
          "output_type": "execute_result",
          "data": {
            "text/plain": [
              "['salt,amchurdrymangopowder,karelabittergourdpavakkai,redchillipowder,gramflourbesan,onion,cuminseedsjeera,corianderpowder,turmericpowder,sunfloweroil',\n",
              " 'Indian']"
            ]
          },
          "metadata": {},
          "execution_count": 141
        }
      ]
    },
    {
      "cell_type": "code",
      "source": [
        "data_frame = df[['FoodID',\t'TranslatedRecipeName', 'keywords']]"
      ],
      "metadata": {
        "id": "9-thEtvW6z4c"
      },
      "execution_count": 143,
      "outputs": []
    },
    {
      "cell_type": "code",
      "source": [
        "data_frame.sample"
      ],
      "metadata": {
        "colab": {
          "base_uri": "https://localhost:8080/"
        },
        "id": "hekLWpRH7WXu",
        "outputId": "1f3d81b3-68e6-4a73-eaf6-38309a19eab6"
      },
      "execution_count": 144,
      "outputs": [
        {
          "output_type": "execute_result",
          "data": {
            "text/plain": [
              "<bound method NDFrame.sample of       FoodID                               TranslatedRecipeName  \\\n",
              "0        100                               Masala Karela Recipe   \n",
              "1        101                         Spicy Tomato Rice (Recipe)   \n",
              "2        102  Ragi Semiya Upma Recipe - Ragi Millet Vermicel...   \n",
              "3        103  Gongura Chicken Curry Recipe - Andhra Style Go...   \n",
              "4        104  Andhra Style Alam Pachadi Recipe - Adrak Chutn...   \n",
              "...      ...                                                ...   \n",
              "6033      96                       Brown Sugar Oatmeal Pancakes   \n",
              "6034      97                                 Lime Chicken Tacos   \n",
              "6035      98                       Quick Cream of Mushroom Soup   \n",
              "6036      99                               Egg Roll Noodle Bowl   \n",
              "6037     100                      Mamaw Emily’s Strawberry Cake   \n",
              "\n",
              "                                               keywords  \n",
              "0     [salt,amchurdrymangopowder,karelabittergourdpa...  \n",
              "1     [tomato,salt,chickpealentils,greenchilli,rice,...  \n",
              "2     [salt,ricevermicellinoodlesthin,asafoetidahing...  \n",
              "3     [tomato,salt,ginger,sorrelleavesgongura,fennel...  \n",
              "4     [tomato,salt,ginger,redchillies,curry,asafoeti...  \n",
              "...                                                 ...  \n",
              "6033  [flour,brownsugar,bakingpowder,milk,eggs,oats,...  \n",
              "6034  [chicken,lime,cumin,salsa,cheese,tortillas, Am...  \n",
              "6035  [onion,garlic,mushrooms,broth,milk,flour, Amer...  \n",
              "6036  [ramennoodles,cabbage,carrot,eggs,soysauce,ses...  \n",
              "6037  [whitecakemix,strawberries,sugar,butter,eggs, ...  \n",
              "\n",
              "[6038 rows x 3 columns]>"
            ]
          },
          "metadata": {},
          "execution_count": 144
        }
      ]
    },
    {
      "cell_type": "code",
      "source": [
        "#list to string\n",
        "data_frame['keywords'] = data_frame['keywords'].apply(lambda x:\" \".join(x))"
      ],
      "metadata": {
        "colab": {
          "base_uri": "https://localhost:8080/"
        },
        "id": "Ebmc676P7ZqC",
        "outputId": "14b2bc0f-0318-4570-b3f8-2020f35c8105"
      },
      "execution_count": 146,
      "outputs": [
        {
          "output_type": "stream",
          "name": "stderr",
          "text": [
            "<ipython-input-146-582947342d05>:2: SettingWithCopyWarning: \n",
            "A value is trying to be set on a copy of a slice from a DataFrame.\n",
            "Try using .loc[row_indexer,col_indexer] = value instead\n",
            "\n",
            "See the caveats in the documentation: https://pandas.pydata.org/pandas-docs/stable/user_guide/indexing.html#returning-a-view-versus-a-copy\n",
            "  data_frame['keywords'] = data_frame['keywords'].apply(lambda x:\" \".join(x))\n"
          ]
        }
      ]
    },
    {
      "cell_type": "code",
      "source": [
        "data_frame.sample"
      ],
      "metadata": {
        "colab": {
          "base_uri": "https://localhost:8080/"
        },
        "id": "rjrs0FbG9cw-",
        "outputId": "94fef9eb-ba61-4e95-f96d-b3eb7eeaf02a"
      },
      "execution_count": 148,
      "outputs": [
        {
          "output_type": "execute_result",
          "data": {
            "text/plain": [
              "<bound method NDFrame.sample of       FoodID                               TranslatedRecipeName  \\\n",
              "0        100                               Masala Karela Recipe   \n",
              "1        101                         Spicy Tomato Rice (Recipe)   \n",
              "2        102  Ragi Semiya Upma Recipe - Ragi Millet Vermicel...   \n",
              "3        103  Gongura Chicken Curry Recipe - Andhra Style Go...   \n",
              "4        104  Andhra Style Alam Pachadi Recipe - Adrak Chutn...   \n",
              "...      ...                                                ...   \n",
              "6033      96                       Brown Sugar Oatmeal Pancakes   \n",
              "6034      97                                 Lime Chicken Tacos   \n",
              "6035      98                       Quick Cream of Mushroom Soup   \n",
              "6036      99                               Egg Roll Noodle Bowl   \n",
              "6037     100                      Mamaw Emily’s Strawberry Cake   \n",
              "\n",
              "                                               keywords  \n",
              "0     salt,amchurdrymangopowder,karelabittergourdpav...  \n",
              "1     tomato,salt,chickpealentils,greenchilli,rice,m...  \n",
              "2     salt,ricevermicellinoodlesthin,asafoetidahing,...  \n",
              "3     tomato,salt,ginger,sorrelleavesgongura,fennels...  \n",
              "4     tomato,salt,ginger,redchillies,curry,asafoetid...  \n",
              "...                                                 ...  \n",
              "6033  flour,brownsugar,bakingpowder,milk,eggs,oats A...  \n",
              "6034  chicken,lime,cumin,salsa,cheese,tortillas Amer...  \n",
              "6035   onion,garlic,mushrooms,broth,milk,flour American  \n",
              "6036  ramennoodles,cabbage,carrot,eggs,soysauce,sesa...  \n",
              "6037  whitecakemix,strawberries,sugar,butter,eggs Am...  \n",
              "\n",
              "[6038 rows x 3 columns]>"
            ]
          },
          "metadata": {},
          "execution_count": 148
        }
      ]
    },
    {
      "cell_type": "code",
      "source": [
        "\n",
        "data_frame['keywords'] = data_frame['keywords'].apply(lambda x: x.replace(',', ' '))"
      ],
      "metadata": {
        "colab": {
          "base_uri": "https://localhost:8080/"
        },
        "id": "xsOYN5i68cdr",
        "outputId": "123f773c-cda5-40cb-9211-bbd45ff56c90"
      },
      "execution_count": 150,
      "outputs": [
        {
          "output_type": "stream",
          "name": "stderr",
          "text": [
            "<ipython-input-150-dcf7ceeea9aa>:1: SettingWithCopyWarning: \n",
            "A value is trying to be set on a copy of a slice from a DataFrame.\n",
            "Try using .loc[row_indexer,col_indexer] = value instead\n",
            "\n",
            "See the caveats in the documentation: https://pandas.pydata.org/pandas-docs/stable/user_guide/indexing.html#returning-a-view-versus-a-copy\n",
            "  data_frame['keywords'] = data_frame['keywords'].apply(lambda x: x.replace(',', ' '))\n"
          ]
        }
      ]
    },
    {
      "cell_type": "code",
      "source": [
        "data_frame.sample"
      ],
      "metadata": {
        "colab": {
          "base_uri": "https://localhost:8080/"
        },
        "id": "cdIAuH2G9r-j",
        "outputId": "3fbe945c-0efd-4421-f458-16e03cdadb1d"
      },
      "execution_count": 151,
      "outputs": [
        {
          "output_type": "execute_result",
          "data": {
            "text/plain": [
              "<bound method NDFrame.sample of       FoodID                               TranslatedRecipeName  \\\n",
              "0        100                               Masala Karela Recipe   \n",
              "1        101                         Spicy Tomato Rice (Recipe)   \n",
              "2        102  Ragi Semiya Upma Recipe - Ragi Millet Vermicel...   \n",
              "3        103  Gongura Chicken Curry Recipe - Andhra Style Go...   \n",
              "4        104  Andhra Style Alam Pachadi Recipe - Adrak Chutn...   \n",
              "...      ...                                                ...   \n",
              "6033      96                       Brown Sugar Oatmeal Pancakes   \n",
              "6034      97                                 Lime Chicken Tacos   \n",
              "6035      98                       Quick Cream of Mushroom Soup   \n",
              "6036      99                               Egg Roll Noodle Bowl   \n",
              "6037     100                      Mamaw Emily’s Strawberry Cake   \n",
              "\n",
              "                                               keywords  \n",
              "0     salt amchurdrymangopowder karelabittergourdpav...  \n",
              "1     tomato salt chickpealentils greenchilli rice m...  \n",
              "2     salt ricevermicellinoodlesthin asafoetidahing ...  \n",
              "3     tomato salt ginger sorrelleavesgongura fennels...  \n",
              "4     tomato salt ginger redchillies curry asafoetid...  \n",
              "...                                                 ...  \n",
              "6033  flour brownsugar bakingpowder milk eggs oats A...  \n",
              "6034  chicken lime cumin salsa cheese tortillas Amer...  \n",
              "6035   onion garlic mushrooms broth milk flour American  \n",
              "6036  ramennoodles cabbage carrot eggs soysauce sesa...  \n",
              "6037  whitecakemix strawberries sugar butter eggs Am...  \n",
              "\n",
              "[6038 rows x 3 columns]>"
            ]
          },
          "metadata": {},
          "execution_count": 151
        }
      ]
    },
    {
      "cell_type": "code",
      "source": [
        "#vectorization\n"
      ],
      "metadata": {
        "id": "FryMGOJT93Pt"
      },
      "execution_count": null,
      "outputs": []
    }
  ]
}